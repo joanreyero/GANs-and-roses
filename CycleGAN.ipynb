{
 "cells": [
  {
   "cell_type": "markdown",
   "metadata": {
    "colab_type": "text",
    "id": "view-in-github"
   },
   "source": [
    "<a href=\"https://colab.research.google.com/github/bkkaggle/pytorch-CycleGAN-and-pix2pix/blob/master/CycleGAN.ipynb\" target=\"_parent\"><img src=\"https://colab.research.google.com/assets/colab-badge.svg\" alt=\"Open In Colab\"/></a>"
   ]
  },
  {
   "cell_type": "markdown",
   "metadata": {
    "colab_type": "text",
    "id": "5VIGyIus8Vr7"
   },
   "source": [
    "Take a look at the [repository](https://github.com/junyanz/pytorch-CycleGAN-and-pix2pix) for more information"
   ]
  },
  {
   "cell_type": "markdown",
   "metadata": {
    "colab_type": "text",
    "id": "7wNjDKdQy35h"
   },
   "source": [
    "# Install"
   ]
  },
  {
   "cell_type": "code",
   "execution_count": 0,
   "metadata": {
    "colab": {},
    "colab_type": "code",
    "id": "TRm-USlsHgEV"
   },
   "outputs": [],
   "source": [
    "!git clone https://github.com/junyanz/pytorch-CycleGAN-and-pix2pix"
   ]
  },
  {
   "cell_type": "code",
   "execution_count": 0,
   "metadata": {
    "colab": {},
    "colab_type": "code",
    "id": "Pt3igws3eiVp"
   },
   "outputs": [],
   "source": [
    "import os\n",
    "os.chdir('pytorch-CycleGAN-and-pix2pix/')"
   ]
  },
  {
   "cell_type": "code",
   "execution_count": 5,
   "metadata": {
    "colab": {},
    "colab_type": "code",
    "id": "z1EySlOXwwoa"
   },
   "outputs": [
    {
     "name": "stdout",
     "output_type": "stream",
     "text": [
      "Requirement already satisfied: torch>=1.4.0 in /usr/local/lib/python3.7/site-packages (from -r requirements.txt (line 1)) (1.7.0)\n",
      "Requirement already satisfied: torchvision>=0.5.0 in /usr/local/lib/python3.7/site-packages (from -r requirements.txt (line 2)) (0.8.1)\n",
      "Requirement already satisfied: dominate>=2.4.0 in /usr/local/lib/python3.7/site-packages (from -r requirements.txt (line 3)) (2.6.0)\n",
      "Requirement already satisfied: visdom>=0.1.8.8 in /usr/local/lib/python3.7/site-packages (from -r requirements.txt (line 4)) (0.1.8.9)\n",
      "Requirement already satisfied: future in /usr/local/lib/python3.7/site-packages (from torch>=1.4.0->-r requirements.txt (line 1)) (0.16.0)\n",
      "Requirement already satisfied: numpy in /usr/local/lib/python3.7/site-packages (from torch>=1.4.0->-r requirements.txt (line 1)) (1.19.1)\n",
      "Requirement already satisfied: dataclasses in /usr/local/lib/python3.7/site-packages (from torch>=1.4.0->-r requirements.txt (line 1)) (0.6)\n",
      "Requirement already satisfied: typing-extensions in /usr/local/lib/python3.7/site-packages (from torch>=1.4.0->-r requirements.txt (line 1)) (3.7.4.3)\n",
      "Requirement already satisfied: pillow>=4.1.1 in /usr/local/lib/python3.7/site-packages (from torchvision>=0.5.0->-r requirements.txt (line 2)) (7.0.0)\n",
      "Requirement already satisfied: torchfile in /usr/local/lib/python3.7/site-packages (from visdom>=0.1.8.8->-r requirements.txt (line 4)) (0.1.0)\n",
      "Requirement already satisfied: websocket-client in /usr/local/lib/python3.7/site-packages (from visdom>=0.1.8.8->-r requirements.txt (line 4)) (0.58.0)\n",
      "Requirement already satisfied: pyzmq in /usr/local/lib/python3.7/site-packages (from visdom>=0.1.8.8->-r requirements.txt (line 4)) (18.1.1)\n",
      "Requirement already satisfied: requests in /usr/local/lib/python3.7/site-packages (from visdom>=0.1.8.8->-r requirements.txt (line 4)) (2.23.0)\n",
      "Requirement already satisfied: tornado in /usr/local/lib/python3.7/site-packages (from visdom>=0.1.8.8->-r requirements.txt (line 4)) (6.0.3)\n",
      "Requirement already satisfied: six in /usr/local/Cellar/protobuf/3.11.2/libexec/lib/python3.7/site-packages (from visdom>=0.1.8.8->-r requirements.txt (line 4)) (1.13.0)\n",
      "Requirement already satisfied: jsonpatch in /usr/local/lib/python3.7/site-packages (from visdom>=0.1.8.8->-r requirements.txt (line 4)) (1.30)\n",
      "Requirement already satisfied: scipy in /usr/local/lib/python3.7/site-packages (from visdom>=0.1.8.8->-r requirements.txt (line 4)) (1.4.1)\n",
      "Requirement already satisfied: certifi>=2017.4.17 in /usr/local/lib/python3.7/site-packages (from requests->visdom>=0.1.8.8->-r requirements.txt (line 4)) (2020.6.20)\n",
      "Requirement already satisfied: chardet<4,>=3.0.2 in /usr/local/lib/python3.7/site-packages (from requests->visdom>=0.1.8.8->-r requirements.txt (line 4)) (3.0.4)\n",
      "Requirement already satisfied: idna<3,>=2.5 in /usr/local/lib/python3.7/site-packages (from requests->visdom>=0.1.8.8->-r requirements.txt (line 4)) (2.9)\n",
      "Requirement already satisfied: urllib3!=1.25.0,!=1.25.1,<1.26,>=1.21.1 in /usr/local/lib/python3.7/site-packages (from requests->visdom>=0.1.8.8->-r requirements.txt (line 4)) (1.25.8)\n",
      "Requirement already satisfied: jsonpointer>=1.9 in /usr/local/lib/python3.7/site-packages (from jsonpatch->visdom>=0.1.8.8->-r requirements.txt (line 4)) (2.0)\n",
      "\u001b[33mWARNING: You are using pip version 20.2.1; however, version 21.0.1 is available.\n",
      "You should consider upgrading via the '/usr/local/opt/python/bin/python3.7 -m pip install --upgrade pip' command.\u001b[0m\n"
     ]
    }
   ],
   "source": [
    "!pip3 install -r requirements.txt"
   ]
  },
  {
   "cell_type": "markdown",
   "metadata": {
    "colab_type": "text",
    "id": "8daqlgVhw29P"
   },
   "source": [
    "# Datasets\n",
    "\n",
    "Download one of the official datasets with:\n",
    "\n",
    "-   `bash ./datasets/download_cyclegan_dataset.sh [apple2orange, orange2apple, summer2winter_yosemite, winter2summer_yosemite, horse2zebra, zebra2horse, monet2photo, style_monet, style_cezanne, style_ukiyoe, style_vangogh, sat2map, map2sat, cityscapes_photo2label, cityscapes_label2photo, facades_photo2label, facades_label2photo, iphone2dslr_flower]`\n",
    "\n",
    "Or use your own dataset by creating the appropriate folders and adding in the images.\n",
    "\n",
    "-   Create a dataset folder under `/dataset` for your dataset.\n",
    "-   Create subfolders `testA`, `testB`, `trainA`, and `trainB` under your dataset's folder. Place any images you want to transform from a to b (cat2dog) in the `testA` folder, images you want to transform from b to a (dog2cat) in the `testB` folder, and do the same for the `trainA` and `trainB` folders."
   ]
  },
  {
   "cell_type": "code",
   "execution_count": 0,
   "metadata": {
    "colab": {},
    "colab_type": "code",
    "id": "vrdOettJxaCc"
   },
   "outputs": [],
   "source": [
    "!bash ./datasets/download_cyclegan_dataset.sh horse2zebra"
   ]
  },
  {
   "cell_type": "markdown",
   "metadata": {
    "colab_type": "text",
    "id": "gdUz4116xhpm"
   },
   "source": [
    "# Pretrained models\n",
    "\n",
    "Download one of the official pretrained models with:\n",
    "\n",
    "-   `bash ./scripts/download_cyclegan_model.sh [apple2orange, orange2apple, summer2winter_yosemite, winter2summer_yosemite, horse2zebra, zebra2horse, monet2photo, style_monet, style_cezanne, style_ukiyoe, style_vangogh, sat2map, map2sat, cityscapes_photo2label, cityscapes_label2photo, facades_photo2label, facades_label2photo, iphone2dslr_flower]`\n",
    "\n",
    "Or add your own pretrained model to `./checkpoints/{NAME}_pretrained/latest_net_G.pt`"
   ]
  },
  {
   "cell_type": "code",
   "execution_count": 2,
   "metadata": {
    "colab": {},
    "colab_type": "code",
    "id": "B75UqtKhxznS"
   },
   "outputs": [
    {
     "name": "stdout",
     "output_type": "stream",
     "text": [
      "Note: available models are apple2orange, orange2apple, summer2winter_yosemite, winter2summer_yosemite, horse2zebra, zebra2horse, monet2photo, style_monet, style_cezanne, style_ukiyoe, style_vangogh, sat2map, map2sat, cityscapes_photo2label, cityscapes_label2photo, facades_photo2label, facades_label2photo, iphone2dslr_flower\n",
      "Specified [style_monet]\n",
      "WARNING: timestamping does nothing in combination with -O. See the manual\n",
      "for details.\n",
      "\n",
      "--2021-03-11 09:26:00--  http://efrosgans.eecs.berkeley.edu/cyclegan/pretrained_models/style_monet.pth\n",
      "Resolving efrosgans.eecs.berkeley.edu (efrosgans.eecs.berkeley.edu)... 128.32.244.190\n",
      "Connecting to efrosgans.eecs.berkeley.edu (efrosgans.eecs.berkeley.edu)|128.32.244.190|:80... connected.\n",
      "HTTP request sent, awaiting response... 200 OK\n",
      "Length: 45575747 (43M)\n",
      "Saving to: ‘./checkpoints/style_monet_pretrained/latest_net_G.pth’\n",
      "\n",
      "./checkpoints/style 100%[===================>]  43.46M   425KB/s    in 69s     \n",
      "\n",
      "2021-03-11 09:27:09 (647 KB/s) - ‘./checkpoints/style_monet_pretrained/latest_net_G.pth’ saved [45575747/45575747]\n",
      "\n"
     ]
    }
   ],
   "source": [
    "!bash ./scripts/download_cyclegan_model.sh style_monet"
   ]
  },
  {
   "cell_type": "markdown",
   "metadata": {
    "colab_type": "text",
    "id": "yFw1kDQBx3LN"
   },
   "source": [
    "# Training\n",
    "\n",
    "-   `python train.py --dataroot ./datasets/horse2zebra --name horse2zebra --model cycle_gan`\n",
    "\n",
    "Change the `--dataroot` and `--name` to your own dataset's path and model's name. Use `--gpu_ids 0,1,..` to train on multiple GPUs and `--batch_size` to change the batch size. I've found that a batch size of 16 fits onto 4 V100s and can finish training an epoch in ~90s.\n",
    "\n",
    "Once your model has trained, copy over the last checkpoint to a format that the testing model can automatically detect:\n",
    "\n",
    "Use `cp ./checkpoints/horse2zebra/latest_net_G_A.pth ./checkpoints/horse2zebra/latest_net_G.pth` if you want to transform images from class A to class B and `cp ./checkpoints/horse2zebra/latest_net_G_B.pth ./checkpoints/horse2zebra/latest_net_G.pth` if you want to transform images from class B to class A.\n"
   ]
  },
  {
   "cell_type": "code",
   "execution_count": 6,
   "metadata": {
    "colab": {},
    "colab_type": "code",
    "id": "0sp7TCT2x9dB"
   },
   "outputs": [
    {
     "name": "stdout",
     "output_type": "stream",
     "text": [
      "----------------- Options ---------------\r\n",
      "               batch_size: 1                             \r\n",
      "                    beta1: 0.5                           \r\n",
      "          checkpoints_dir: ./checkpoints                 \r\n",
      "           continue_train: False                         \r\n",
      "                crop_size: 256                           \r\n",
      "                 dataroot: ./datasets/stylemonet         \t[default: None]\r\n",
      "             dataset_mode: unaligned                     \r\n",
      "                direction: AtoB                          \r\n",
      "              display_env: main                          \r\n",
      "             display_freq: 400                           \r\n",
      "               display_id: 1                             \r\n",
      "            display_ncols: 4                             \r\n",
      "             display_port: 8097                          \r\n",
      "           display_server: http://localhost              \r\n",
      "          display_winsize: 256                           \r\n",
      "                    epoch: latest                        \r\n",
      "              epoch_count: 1                             \r\n",
      "                 gan_mode: lsgan                         \r\n",
      "                  gpu_ids: -1                            \t[default: 0]\r\n",
      "                init_gain: 0.02                          \r\n",
      "                init_type: normal                        \r\n",
      "                 input_nc: 3                             \r\n",
      "                  isTrain: True                          \t[default: None]\r\n",
      "                 lambda_A: 10.0                          \r\n",
      "                 lambda_B: 10.0                          \r\n",
      "          lambda_identity: 0.5                           \r\n",
      "                load_iter: 0                             \t[default: 0]\r\n",
      "                load_size: 286                           \r\n",
      "                       lr: 0.0002                        \r\n",
      "           lr_decay_iters: 50                            \r\n",
      "                lr_policy: linear                        \r\n",
      "         max_dataset_size: inf                           \r\n",
      "                    model: cycle_gan                     \r\n",
      "                 n_epochs: 100                           \r\n",
      "           n_epochs_decay: 100                           \r\n",
      "               n_layers_D: 3                             \r\n",
      "                     name: horse2zebra                   \t[default: experiment_name]\r\n",
      "                      ndf: 64                            \r\n",
      "                     netD: basic                         \r\n",
      "                     netG: resnet_9blocks                \r\n",
      "                      ngf: 64                            \r\n",
      "               no_dropout: True                          \r\n",
      "                  no_flip: False                         \r\n",
      "                  no_html: False                         \r\n",
      "                     norm: instance                      \r\n",
      "              num_threads: 4                             \r\n",
      "                output_nc: 3                             \r\n",
      "                    phase: train                         \r\n",
      "                pool_size: 50                            \r\n",
      "               preprocess: resize_and_crop               \r\n",
      "               print_freq: 100                           \r\n",
      "             save_by_iter: False                         \r\n",
      "          save_epoch_freq: 5                             \r\n",
      "         save_latest_freq: 5000                          \r\n",
      "           serial_batches: False                         \r\n",
      "                   suffix:                               \r\n",
      "         update_html_freq: 1000                          \r\n",
      "                  verbose: False                         \r\n",
      "----------------- End -------------------\r\n",
      "dataset [UnalignedDataset] was created\r\n",
      "The number of training images = 7038\r\n",
      "Traceback (most recent call last):\r\n",
      "  File \"train.py\", line 13, in <module>\r\n",
      "    model = CycleGAN(opt)      # create a model given opt.model and other options\r\n",
      "NameError: name 'CycleGAN' is not defined\r\n"
     ]
    }
   ],
   "source": [
    "!python3 train.py --dataroot ./datasets/stylemonet --name horse2zebra --model cycle_gan --gpu_ids -1"
   ]
  },
  {
   "cell_type": "markdown",
   "metadata": {
    "colab_type": "text",
    "id": "9UkcaFZiyASl"
   },
   "source": [
    "# Testing\n",
    "\n",
    "-   `python test.py --dataroot datasets/horse2zebra/testA --name horse2zebra_pretrained --model test --no_dropout`\n",
    "\n",
    "Change the `--dataroot` and `--name` to be consistent with your trained model's configuration.\n",
    "\n",
    "> from https://github.com/junyanz/pytorch-CycleGAN-and-pix2pix:\n",
    "> The option --model test is used for generating results of CycleGAN only for one side. This option will automatically set --dataset_mode single, which only loads the images from one set. On the contrary, using --model cycle_gan requires loading and generating results in both directions, which is sometimes unnecessary. The results will be saved at ./results/. Use --results_dir {directory_path_to_save_result} to specify the results directory.\n",
    "\n",
    "> For your own experiments, you might want to specify --netG, --norm, --no_dropout to match the generator architecture of the trained model."
   ]
  },
  {
   "cell_type": "code",
   "execution_count": 9,
   "metadata": {
    "colab": {},
    "colab_type": "code",
    "id": "uCsKkEq0yGh0"
   },
   "outputs": [
    {
     "name": "stdout",
     "output_type": "stream",
     "text": [
      "----------------- Options ---------------\n",
      "             aspect_ratio: 1.0                           \n",
      "               batch_size: 1                             \n",
      "          checkpoints_dir: ./checkpoints                 \n",
      "                crop_size: 256                           \n",
      "                 dataroot: datasets/stylemonet/testA     \t[default: None]\n",
      "             dataset_mode: single                        \n",
      "                direction: AtoB                          \n",
      "          display_winsize: 256                           \n",
      "                    epoch: latest                        \n",
      "                     eval: False                         \n",
      "                  gpu_ids: -1                            \t[default: 0]\n",
      "                init_gain: 0.02                          \n",
      "                init_type: normal                        \n",
      "                 input_nc: 3                             \n",
      "                  isTrain: False                         \t[default: None]\n",
      "                load_iter: 0                             \t[default: 0]\n",
      "                load_size: 256                           \n",
      "         max_dataset_size: inf                           \n",
      "                    model: test                          \n",
      "             model_suffix:                               \n",
      "               n_layers_D: 3                             \n",
      "                     name: style_monet_pretrained        \t[default: experiment_name]\n",
      "                      ndf: 64                            \n",
      "                     netD: basic                         \n",
      "                     netG: resnet_9blocks                \n",
      "                      ngf: 64                            \n",
      "               no_dropout: True                          \t[default: False]\n",
      "                  no_flip: False                         \n",
      "                     norm: instance                      \n",
      "                 num_test: 50                            \n",
      "              num_threads: 4                             \n",
      "                output_nc: 3                             \n",
      "                    phase: test                          \n",
      "               preprocess: resize_and_crop               \n",
      "              results_dir: ./results/                    \n",
      "           serial_batches: False                         \n",
      "                   suffix:                               \n",
      "                  verbose: False                         \n",
      "----------------- End -------------------\n",
      "dataset [SingleDataset] was created\n",
      "initialize network with normal\n",
      "model [TestModel] was created\n",
      "loading the model from ./checkpoints/style_monet_pretrained/latest_net_G.pth\n",
      "---------- Networks initialized -------------\n",
      "[Network G] Total number of parameters : 11.378 M\n",
      "-----------------------------------------------\n",
      "creating web directory ./results/style_monet_pretrained/test_latest\n",
      "processing (0000)-th image... ['datasets/stylemonet/testA/000c1e3bff.jpg']\n",
      "processing (0005)-th image... ['datasets/stylemonet/testA/052a77c020.jpg']\n",
      "processing (0010)-th image... ['datasets/stylemonet/testA/07fcaee35f.jpg']\n",
      "processing (0015)-th image... ['datasets/stylemonet/testA/106757e5d8.jpg']\n",
      "processing (0020)-th image... ['datasets/stylemonet/testA/11be65b3e9.jpg']\n",
      "processing (0025)-th image... ['datasets/stylemonet/testA/16dabe418c.jpg']\n",
      "processing (0030)-th image... ['datasets/stylemonet/testA/19dc36ccb2.jpg']\n",
      "processing (0035)-th image... ['datasets/stylemonet/testA/22b1ac6b44.jpg']\n",
      "processing (0040)-th image... ['datasets/stylemonet/testA/24af733334.jpg']\n",
      "processing (0045)-th image... ['datasets/stylemonet/testA/2759c1ed37.jpg']\n"
     ]
    }
   ],
   "source": [
    "!python3 test.py --dataroot datasets/stylemonet/testA --name style_monet_pretrained --model test --no_dropout --gpu_ids=-1"
   ]
  },
  {
   "cell_type": "markdown",
   "metadata": {
    "colab_type": "text",
    "id": "OzSKIPUByfiN"
   },
   "source": [
    "# Visualize"
   ]
  },
  {
   "cell_type": "code",
   "execution_count": 0,
   "metadata": {
    "colab": {},
    "colab_type": "code",
    "id": "9Mgg8raPyizq"
   },
   "outputs": [],
   "source": [
    "import matplotlib.pyplot as plt\n",
    "\n",
    "img = plt.imread('./results/horse2zebra_pretrained/test_latest/images/n02381460_1010_fake.png')\n",
    "plt.imshow(img)"
   ]
  },
  {
   "cell_type": "code",
   "execution_count": 0,
   "metadata": {
    "colab": {},
    "colab_type": "code",
    "id": "0G3oVH9DyqLQ"
   },
   "outputs": [],
   "source": [
    "import matplotlib.pyplot as plt\n",
    "\n",
    "img = plt.imread('./results/horse2zebra_pretrained/test_latest/images/n02381460_1010_real.png')\n",
    "plt.imshow(img)"
   ]
  }
 ],
 "metadata": {
  "accelerator": "GPU",
  "colab": {
   "collapsed_sections": [],
   "include_colab_link": true,
   "name": "CycleGAN",
   "provenance": []
  },
  "kernelspec": {
   "display_name": "Python 3",
   "language": "python",
   "name": "python3"
  },
  "language_info": {
   "codemirror_mode": {
    "name": "ipython",
    "version": 3
   },
   "file_extension": ".py",
   "mimetype": "text/x-python",
   "name": "python",
   "nbconvert_exporter": "python",
   "pygments_lexer": "ipython3",
   "version": "3.7.6"
  }
 },
 "nbformat": 4,
 "nbformat_minor": 1
}
